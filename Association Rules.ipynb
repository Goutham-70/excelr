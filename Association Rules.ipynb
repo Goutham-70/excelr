{
 "cells": [
  {
   "cell_type": "code",
   "execution_count": 1,
   "metadata": {},
   "outputs": [
    {
     "name": "stdout",
     "output_type": "stream",
     "text": [
      "Collecting mlxtend\n",
      "  Downloading mlxtend-0.23.4-py3-none-any.whl (1.4 MB)\n",
      "Requirement already satisfied: numpy>=1.16.2 in c:\\users\\mruh\\anaconda3\\lib\\site-packages (from mlxtend) (1.19.2)\n",
      "Requirement already satisfied: scipy>=1.2.1 in c:\\users\\mruh\\anaconda3\\lib\\site-packages (from mlxtend) (1.5.2)\n",
      "Requirement already satisfied: matplotlib>=3.0.0 in c:\\users\\mruh\\anaconda3\\lib\\site-packages (from mlxtend) (3.3.2)\n",
      "Requirement already satisfied: pandas>=0.24.2 in c:\\users\\mruh\\anaconda3\\lib\\site-packages (from mlxtend) (1.1.3)\n",
      "Requirement already satisfied: joblib>=0.13.2 in c:\\users\\mruh\\anaconda3\\lib\\site-packages (from mlxtend) (0.17.0)\n",
      "Collecting scikit-learn>=1.3.1\n",
      "  Downloading scikit_learn-1.3.2-cp38-cp38-win_amd64.whl (9.3 MB)\n",
      "Requirement already satisfied: cycler>=0.10 in c:\\users\\mruh\\anaconda3\\lib\\site-packages (from matplotlib>=3.0.0->mlxtend) (0.10.0)\n",
      "Requirement already satisfied: pillow>=6.2.0 in c:\\users\\mruh\\anaconda3\\lib\\site-packages (from matplotlib>=3.0.0->mlxtend) (8.0.1)\n",
      "Requirement already satisfied: pyparsing!=2.0.4,!=2.1.2,!=2.1.6,>=2.0.3 in c:\\users\\mruh\\anaconda3\\lib\\site-packages (from matplotlib>=3.0.0->mlxtend) (2.4.7)\n",
      "Requirement already satisfied: python-dateutil>=2.1 in c:\\users\\mruh\\anaconda3\\lib\\site-packages (from matplotlib>=3.0.0->mlxtend) (2.8.1)\n",
      "Requirement already satisfied: certifi>=2020.06.20 in c:\\users\\mruh\\anaconda3\\lib\\site-packages (from matplotlib>=3.0.0->mlxtend) (2020.6.20)\n",
      "Requirement already satisfied: kiwisolver>=1.0.1 in c:\\users\\mruh\\anaconda3\\lib\\site-packages (from matplotlib>=3.0.0->mlxtend) (1.3.0)\n",
      "Requirement already satisfied: pytz>=2017.2 in c:\\users\\mruh\\anaconda3\\lib\\site-packages (from pandas>=0.24.2->mlxtend) (2020.1)\n",
      "Requirement already satisfied: threadpoolctl>=2.0.0 in c:\\users\\mruh\\anaconda3\\lib\\site-packages (from scikit-learn>=1.3.1->mlxtend) (2.1.0)\n",
      "Requirement already satisfied: six in c:\\users\\mruh\\anaconda3\\lib\\site-packages (from cycler>=0.10->matplotlib>=3.0.0->mlxtend) (1.15.0)\n",
      "Installing collected packages: scikit-learn, mlxtend\n",
      "  Attempting uninstall: scikit-learn\n",
      "    Found existing installation: scikit-learn 0.23.2\n",
      "    Uninstalling scikit-learn-0.23.2:\n",
      "      Successfully uninstalled scikit-learn-0.23.2\n",
      "Successfully installed mlxtend-0.23.4 scikit-learn-1.3.2\n"
     ]
    },
    {
     "name": "stderr",
     "output_type": "stream",
     "text": [
      "ERROR: After October 2020 you may experience errors when installing or updating packages. This is because pip will change the way that it resolves dependency conflicts.\n",
      "\n",
      "We recommend you use --use-feature=2020-resolver to test your packages with the new resolver before it becomes the default.\n",
      "\n",
      "scikit-learn 1.3.2 requires joblib>=1.1.1, but you'll have joblib 0.17.0 which is incompatible.\n"
     ]
    }
   ],
   "source": [
    "!pip install mlxtend"
   ]
  },
  {
   "cell_type": "code",
   "execution_count": 2,
   "metadata": {},
   "outputs": [],
   "source": [
    "import pandas as pd\n",
    "import mlxtend\n",
    "from mlxtend.frequent_patterns import apriori,association_rules\n",
    "import matplotlib.pyplot as plt"
   ]
  },
  {
   "cell_type": "code",
   "execution_count": 3,
   "metadata": {},
   "outputs": [
    {
     "name": "stderr",
     "output_type": "stream",
     "text": [
      "C:\\Users\\MRUH\\anaconda3\\lib\\site-packages\\ipykernel\\ipkernel.py:287: DeprecationWarning: `should_run_async` will not call `transform_cell` automatically in the future. Please pass the result to `transformed_cell` argument and any exception that happen during thetransform in `preprocessing_exc_tuple` in IPython 7.17 and above.\n",
      "  and should_run_async(code)\n"
     ]
    },
    {
     "data": {
      "text/html": [
       "<div>\n",
       "<style scoped>\n",
       "    .dataframe tbody tr th:only-of-type {\n",
       "        vertical-align: middle;\n",
       "    }\n",
       "\n",
       "    .dataframe tbody tr th {\n",
       "        vertical-align: top;\n",
       "    }\n",
       "\n",
       "    .dataframe thead th {\n",
       "        text-align: right;\n",
       "    }\n",
       "</style>\n",
       "<table border=\"1\" class=\"dataframe\">\n",
       "  <thead>\n",
       "    <tr style=\"text-align: right;\">\n",
       "      <th></th>\n",
       "      <th>Class</th>\n",
       "      <th>Gender</th>\n",
       "      <th>Age</th>\n",
       "      <th>Survived</th>\n",
       "    </tr>\n",
       "  </thead>\n",
       "  <tbody>\n",
       "    <tr>\n",
       "      <th>0</th>\n",
       "      <td>3rd</td>\n",
       "      <td>Male</td>\n",
       "      <td>Child</td>\n",
       "      <td>No</td>\n",
       "    </tr>\n",
       "    <tr>\n",
       "      <th>1</th>\n",
       "      <td>3rd</td>\n",
       "      <td>Male</td>\n",
       "      <td>Child</td>\n",
       "      <td>No</td>\n",
       "    </tr>\n",
       "    <tr>\n",
       "      <th>2</th>\n",
       "      <td>3rd</td>\n",
       "      <td>Male</td>\n",
       "      <td>Child</td>\n",
       "      <td>No</td>\n",
       "    </tr>\n",
       "    <tr>\n",
       "      <th>3</th>\n",
       "      <td>3rd</td>\n",
       "      <td>Male</td>\n",
       "      <td>Child</td>\n",
       "      <td>No</td>\n",
       "    </tr>\n",
       "    <tr>\n",
       "      <th>4</th>\n",
       "      <td>3rd</td>\n",
       "      <td>Male</td>\n",
       "      <td>Child</td>\n",
       "      <td>No</td>\n",
       "    </tr>\n",
       "    <tr>\n",
       "      <th>...</th>\n",
       "      <td>...</td>\n",
       "      <td>...</td>\n",
       "      <td>...</td>\n",
       "      <td>...</td>\n",
       "    </tr>\n",
       "    <tr>\n",
       "      <th>2196</th>\n",
       "      <td>Crew</td>\n",
       "      <td>Female</td>\n",
       "      <td>Adult</td>\n",
       "      <td>Yes</td>\n",
       "    </tr>\n",
       "    <tr>\n",
       "      <th>2197</th>\n",
       "      <td>Crew</td>\n",
       "      <td>Female</td>\n",
       "      <td>Adult</td>\n",
       "      <td>Yes</td>\n",
       "    </tr>\n",
       "    <tr>\n",
       "      <th>2198</th>\n",
       "      <td>Crew</td>\n",
       "      <td>Female</td>\n",
       "      <td>Adult</td>\n",
       "      <td>Yes</td>\n",
       "    </tr>\n",
       "    <tr>\n",
       "      <th>2199</th>\n",
       "      <td>Crew</td>\n",
       "      <td>Female</td>\n",
       "      <td>Adult</td>\n",
       "      <td>Yes</td>\n",
       "    </tr>\n",
       "    <tr>\n",
       "      <th>2200</th>\n",
       "      <td>Crew</td>\n",
       "      <td>Female</td>\n",
       "      <td>Adult</td>\n",
       "      <td>Yes</td>\n",
       "    </tr>\n",
       "  </tbody>\n",
       "</table>\n",
       "<p>2201 rows × 4 columns</p>\n",
       "</div>"
      ],
      "text/plain": [
       "     Class  Gender    Age Survived\n",
       "0      3rd    Male  Child       No\n",
       "1      3rd    Male  Child       No\n",
       "2      3rd    Male  Child       No\n",
       "3      3rd    Male  Child       No\n",
       "4      3rd    Male  Child       No\n",
       "...    ...     ...    ...      ...\n",
       "2196  Crew  Female  Adult      Yes\n",
       "2197  Crew  Female  Adult      Yes\n",
       "2198  Crew  Female  Adult      Yes\n",
       "2199  Crew  Female  Adult      Yes\n",
       "2200  Crew  Female  Adult      Yes\n",
       "\n",
       "[2201 rows x 4 columns]"
      ]
     },
     "execution_count": 3,
     "metadata": {},
     "output_type": "execute_result"
    }
   ],
   "source": [
    "titanic = pd.read_csv(\"Titanic.csv\")\n",
    "titanic"
   ]
  },
  {
   "cell_type": "code",
   "execution_count": 4,
   "metadata": {},
   "outputs": [
    {
     "name": "stdout",
     "output_type": "stream",
     "text": [
      "<class 'pandas.core.frame.DataFrame'>\n",
      "RangeIndex: 2201 entries, 0 to 2200\n",
      "Data columns (total 4 columns):\n",
      " #   Column    Non-Null Count  Dtype \n",
      "---  ------    --------------  ----- \n",
      " 0   Class     2201 non-null   object\n",
      " 1   Gender    2201 non-null   object\n",
      " 2   Age       2201 non-null   object\n",
      " 3   Survived  2201 non-null   object\n",
      "dtypes: object(4)\n",
      "memory usage: 68.9+ KB\n"
     ]
    },
    {
     "name": "stderr",
     "output_type": "stream",
     "text": [
      "C:\\Users\\MRUH\\anaconda3\\lib\\site-packages\\ipykernel\\ipkernel.py:287: DeprecationWarning: `should_run_async` will not call `transform_cell` automatically in the future. Please pass the result to `transformed_cell` argument and any exception that happen during thetransform in `preprocessing_exc_tuple` in IPython 7.17 and above.\n",
      "  and should_run_async(code)\n"
     ]
    }
   ],
   "source": [
    "titanic.info()"
   ]
  },
  {
   "cell_type": "markdown",
   "metadata": {},
   "source": [
    "#### Observations\n",
    "- The give dataset is very long dataset\n",
    "- The dataset consumes 70kb+ the data is also in catagorical data\n",
    "- There is no null value"
   ]
  },
  {
   "cell_type": "code",
   "execution_count": 6,
   "metadata": {},
   "outputs": [
    {
     "name": "stderr",
     "output_type": "stream",
     "text": [
      "C:\\Users\\MRUH\\anaconda3\\lib\\site-packages\\ipykernel\\ipkernel.py:287: DeprecationWarning: `should_run_async` will not call `transform_cell` automatically in the future. Please pass the result to `transformed_cell` argument and any exception that happen during thetransform in `preprocessing_exc_tuple` in IPython 7.17 and above.\n",
      "  and should_run_async(code)\n"
     ]
    },
    {
     "data": {
      "text/plain": [
       "Crew    885\n",
       "3rd     706\n",
       "1st     325\n",
       "2nd     285\n",
       "Name: Class, dtype: int64"
      ]
     },
     "execution_count": 6,
     "metadata": {},
     "output_type": "execute_result"
    }
   ],
   "source": [
    "titanic['Class'].value_counts()"
   ]
  },
  {
   "cell_type": "code",
   "execution_count": 7,
   "metadata": {},
   "outputs": [
    {
     "name": "stderr",
     "output_type": "stream",
     "text": [
      "C:\\Users\\MRUH\\anaconda3\\lib\\site-packages\\ipykernel\\ipkernel.py:287: DeprecationWarning: `should_run_async` will not call `transform_cell` automatically in the future. Please pass the result to `transformed_cell` argument and any exception that happen during thetransform in `preprocessing_exc_tuple` in IPython 7.17 and above.\n",
      "  and should_run_async(code)\n"
     ]
    },
    {
     "data": {
      "text/plain": [
       "Adult    2092\n",
       "Child     109\n",
       "Name: Age, dtype: int64"
      ]
     },
     "execution_count": 7,
     "metadata": {},
     "output_type": "execute_result"
    }
   ],
   "source": [
    "titanic['Age'].value_counts()\n"
   ]
  },
  {
   "cell_type": "code",
   "execution_count": 8,
   "metadata": {},
   "outputs": [
    {
     "name": "stderr",
     "output_type": "stream",
     "text": [
      "C:\\Users\\MRUH\\anaconda3\\lib\\site-packages\\ipykernel\\ipkernel.py:287: DeprecationWarning: `should_run_async` will not call `transform_cell` automatically in the future. Please pass the result to `transformed_cell` argument and any exception that happen during thetransform in `preprocessing_exc_tuple` in IPython 7.17 and above.\n",
      "  and should_run_async(code)\n"
     ]
    },
    {
     "data": {
      "text/plain": [
       "<BarContainer object of 4 artists>"
      ]
     },
     "execution_count": 8,
     "metadata": {},
     "output_type": "execute_result"
    },
    {
     "data": {
      "image/png": "[encoded data removed]",
      "text/plain": [
       "<Figure size 432x288 with 1 Axes>"
      ]
     },
     "metadata": {
      "needs_background": "light"
     },
     "output_type": "display_data"
    }
   ],
   "source": [
    "counts = titanic['Class'].value_counts()\n",
    "plt.bar(counts.index, counts.values)"
   ]
  },
  {
   "cell_type": "markdown",
   "metadata": {},
   "source": [
    "### Observations\n",
    "- Maximum no of people in crew\n",
    "- The Second largest is 3rd class people\n",
    "- The lowest people is 1st and 2nd "
   ]
  },
  {
   "cell_type": "code",
   "execution_count": 9,
   "metadata": {},
   "outputs": [
    {
     "name": "stderr",
     "output_type": "stream",
     "text": [
      "C:\\Users\\MRUH\\anaconda3\\lib\\site-packages\\ipykernel\\ipkernel.py:287: DeprecationWarning: `should_run_async` will not call `transform_cell` automatically in the future. Please pass the result to `transformed_cell` argument and any exception that happen during thetransform in `preprocessing_exc_tuple` in IPython 7.17 and above.\n",
      "  and should_run_async(code)\n"
     ]
    },
    {
     "data": {
      "text/plain": [
       "<BarContainer object of 2 artists>"
      ]
     },
     "execution_count": 9,
     "metadata": {},
     "output_type": "execute_result"
    },
    {
     "data": {
      "image/png": "[encoded data removed]",
      "text/plain": [
       "<Figure size 432x288 with 1 Axes>"
      ]
     },
     "metadata": {
      "needs_background": "light"
     },
     "output_type": "display_data"
    }
   ],
   "source": [
    "counts = titanic['Age'].value_counts()\n",
    "plt.bar(counts.index, counts.values)"
   ]
  },
  {
   "cell_type": "code",
   "execution_count": 10,
   "metadata": {},
   "outputs": [
    {
     "name": "stderr",
     "output_type": "stream",
     "text": [
      "C:\\Users\\MRUH\\anaconda3\\lib\\site-packages\\ipykernel\\ipkernel.py:287: DeprecationWarning: `should_run_async` will not call `transform_cell` automatically in the future. Please pass the result to `transformed_cell` argument and any exception that happen during thetransform in `preprocessing_exc_tuple` in IPython 7.17 and above.\n",
      "  and should_run_async(code)\n"
     ]
    },
    {
     "data": {
      "text/plain": [
       "<BarContainer object of 2 artists>"
      ]
     },
     "execution_count": 10,
     "metadata": {},
     "output_type": "execute_result"
    },
    {
     "data": {
      "image/png": "[encoded data removed]",
      "text/plain": [
       "<Figure size 432x288 with 1 Axes>"
      ]
     },
     "metadata": {
      "needs_background": "light"
     },
     "output_type": "display_data"
    }
   ],
   "source": [
    "counts = titanic['Gender'].value_counts()\n",
    "plt.bar(counts.index, counts.values)"
   ]
  },
  {
   "cell_type": "code",
   "execution_count": 11,
   "metadata": {},
   "outputs": [
    {
     "name": "stderr",
     "output_type": "stream",
     "text": [
      "C:\\Users\\MRUH\\anaconda3\\lib\\site-packages\\ipykernel\\ipkernel.py:287: DeprecationWarning: `should_run_async` will not call `transform_cell` automatically in the future. Please pass the result to `transformed_cell` argument and any exception that happen during thetransform in `preprocessing_exc_tuple` in IPython 7.17 and above.\n",
      "  and should_run_async(code)\n"
     ]
    },
    {
     "data": {
      "text/plain": [
       "<BarContainer object of 2 artists>"
      ]
     },
     "execution_count": 11,
     "metadata": {},
     "output_type": "execute_result"
    },
    {
     "data": {
      "image/png": "[encoded data removed]",
      "text/plain": [
       "<Figure size 432x288 with 1 Axes>"
      ]
     },
     "metadata": {
      "needs_background": "light"
     },
     "output_type": "display_data"
    }
   ],
   "source": [
    "counts = titanic['Survived'].value_counts()\n",
    "plt.bar(counts.index, counts.values)"
   ]
  },
  {
   "cell_type": "code",
   "execution_count": 12,
   "metadata": {},
   "outputs": [
    {
     "name": "stderr",
     "output_type": "stream",
     "text": [
      "C:\\Users\\MRUH\\anaconda3\\lib\\site-packages\\ipykernel\\ipkernel.py:287: DeprecationWarning: `should_run_async` will not call `transform_cell` automatically in the future. Please pass the result to `transformed_cell` argument and any exception that happen during thetransform in `preprocessing_exc_tuple` in IPython 7.17 and above.\n",
      "  and should_run_async(code)\n"
     ]
    },
    {
     "data": {
      "text/html": [
       "<div>\n",
       "<style scoped>\n",
       "    .dataframe tbody tr th:only-of-type {\n",
       "        vertical-align: middle;\n",
       "    }\n",
       "\n",
       "    .dataframe tbody tr th {\n",
       "        vertical-align: top;\n",
       "    }\n",
       "\n",
       "    .dataframe thead th {\n",
       "        text-align: right;\n",
       "    }\n",
       "</style>\n",
       "<table border=\"1\" class=\"dataframe\">\n",
       "  <thead>\n",
       "    <tr style=\"text-align: right;\">\n",
       "      <th></th>\n",
       "      <th>Class_1st</th>\n",
       "      <th>Class_2nd</th>\n",
       "      <th>Class_3rd</th>\n",
       "      <th>Class_Crew</th>\n",
       "      <th>Gender_Female</th>\n",
       "      <th>Gender_Male</th>\n",
       "      <th>Age_Adult</th>\n",
       "      <th>Age_Child</th>\n",
       "      <th>Survived_No</th>\n",
       "      <th>Survived_Yes</th>\n",
       "    </tr>\n",
       "  </thead>\n",
       "  <tbody>\n",
       "    <tr>\n",
       "      <th>0</th>\n",
       "      <td>0</td>\n",
       "      <td>0</td>\n",
       "      <td>1</td>\n",
       "      <td>0</td>\n",
       "      <td>0</td>\n",
       "      <td>1</td>\n",
       "      <td>0</td>\n",
       "      <td>1</td>\n",
       "      <td>1</td>\n",
       "      <td>0</td>\n",
       "    </tr>\n",
       "    <tr>\n",
       "      <th>1</th>\n",
       "      <td>0</td>\n",
       "      <td>0</td>\n",
       "      <td>1</td>\n",
       "      <td>0</td>\n",
       "      <td>0</td>\n",
       "      <td>1</td>\n",
       "      <td>0</td>\n",
       "      <td>1</td>\n",
       "      <td>1</td>\n",
       "      <td>0</td>\n",
       "    </tr>\n",
       "    <tr>\n",
       "      <th>2</th>\n",
       "      <td>0</td>\n",
       "      <td>0</td>\n",
       "      <td>1</td>\n",
       "      <td>0</td>\n",
       "      <td>0</td>\n",
       "      <td>1</td>\n",
       "      <td>0</td>\n",
       "      <td>1</td>\n",
       "      <td>1</td>\n",
       "      <td>0</td>\n",
       "    </tr>\n",
       "    <tr>\n",
       "      <th>3</th>\n",
       "      <td>0</td>\n",
       "      <td>0</td>\n",
       "      <td>1</td>\n",
       "      <td>0</td>\n",
       "      <td>0</td>\n",
       "      <td>1</td>\n",
       "      <td>0</td>\n",
       "      <td>1</td>\n",
       "      <td>1</td>\n",
       "      <td>0</td>\n",
       "    </tr>\n",
       "    <tr>\n",
       "      <th>4</th>\n",
       "      <td>0</td>\n",
       "      <td>0</td>\n",
       "      <td>1</td>\n",
       "      <td>0</td>\n",
       "      <td>0</td>\n",
       "      <td>1</td>\n",
       "      <td>0</td>\n",
       "      <td>1</td>\n",
       "      <td>1</td>\n",
       "      <td>0</td>\n",
       "    </tr>\n",
       "  </tbody>\n",
       "</table>\n",
       "</div>"
      ],
      "text/plain": [
       "   Class_1st  Class_2nd  Class_3rd  Class_Crew  Gender_Female  Gender_Male  \\\n",
       "0          0          0          1           0              0            1   \n",
       "1          0          0          1           0              0            1   \n",
       "2          0          0          1           0              0            1   \n",
       "3          0          0          1           0              0            1   \n",
       "4          0          0          1           0              0            1   \n",
       "\n",
       "   Age_Adult  Age_Child  Survived_No  Survived_Yes  \n",
       "0          0          1            1             0  \n",
       "1          0          1            1             0  \n",
       "2          0          1            1             0  \n",
       "3          0          1            1             0  \n",
       "4          0          1            1             0  "
      ]
     },
     "execution_count": 12,
     "metadata": {},
     "output_type": "execute_result"
    }
   ],
   "source": [
    "df=pd.get_dummies(titanic,dtype=int)\n",
    "df.head()"
   ]
  },
  {
   "cell_type": "markdown",
   "metadata": {},
   "source": [
    "#### Observations \n",
    "- Based on the catogreies the no. of columns created\n",
    "- The data also changed into the binary numbers"
   ]
  },
  {
   "cell_type": "code",
   "execution_count": 14,
   "metadata": {},
   "outputs": [
    {
     "name": "stdout",
     "output_type": "stream",
     "text": [
      "<class 'pandas.core.frame.DataFrame'>\n",
      "RangeIndex: 2201 entries, 0 to 2200\n",
      "Data columns (total 10 columns):\n",
      " #   Column         Non-Null Count  Dtype\n",
      "---  ------         --------------  -----\n",
      " 0   Class_1st      2201 non-null   int32\n",
      " 1   Class_2nd      2201 non-null   int32\n",
      " 2   Class_3rd      2201 non-null   int32\n",
      " 3   Class_Crew     2201 non-null   int32\n",
      " 4   Gender_Female  2201 non-null   int32\n",
      " 5   Gender_Male    2201 non-null   int32\n",
      " 6   Age_Adult      2201 non-null   int32\n",
      " 7   Age_Child      2201 non-null   int32\n",
      " 8   Survived_No    2201 non-null   int32\n",
      " 9   Survived_Yes   2201 non-null   int32\n",
      "dtypes: int32(10)\n",
      "memory usage: 86.1 KB\n"
     ]
    },
    {
     "name": "stderr",
     "output_type": "stream",
     "text": [
      "C:\\Users\\MRUH\\anaconda3\\lib\\site-packages\\ipykernel\\ipkernel.py:287: DeprecationWarning: `should_run_async` will not call `transform_cell` automatically in the future. Please pass the result to `transformed_cell` argument and any exception that happen during thetransform in `preprocessing_exc_tuple` in IPython 7.17 and above.\n",
      "  and should_run_async(code)\n"
     ]
    }
   ],
   "source": [
    "df.info()"
   ]
  },
  {
   "cell_type": "code",
   "execution_count": 16,
   "metadata": {},
   "outputs": [
    {
     "name": "stderr",
     "output_type": "stream",
     "text": [
      "C:\\Users\\MRUH\\anaconda3\\lib\\site-packages\\ipykernel\\ipkernel.py:287: DeprecationWarning: `should_run_async` will not call `transform_cell` automatically in the future. Please pass the result to `transformed_cell` argument and any exception that happen during thetransform in `preprocessing_exc_tuple` in IPython 7.17 and above.\n",
      "  and should_run_async(code)\n",
      "C:\\Users\\MRUH\\anaconda3\\lib\\site-packages\\mlxtend\\frequent_patterns\\fpcommon.py:161: DeprecationWarning: DataFrames with non-bool types result in worse computationalperformance and their support might be discontinued in the future.Please use a DataFrame with bool type\n",
      "  warnings.warn(\n"
     ]
    },
    {
     "data": {
      "text/html": [
       "<div>\n",
       "<style scoped>\n",
       "    .dataframe tbody tr th:only-of-type {\n",
       "        vertical-align: middle;\n",
       "    }\n",
       "\n",
       "    .dataframe tbody tr th {\n",
       "        vertical-align: top;\n",
       "    }\n",
       "\n",
       "    .dataframe thead th {\n",
       "        text-align: right;\n",
       "    }\n",
       "</style>\n",
       "<table border=\"1\" class=\"dataframe\">\n",
       "  <thead>\n",
       "    <tr style=\"text-align: right;\">\n",
       "      <th></th>\n",
       "      <th>support</th>\n",
       "      <th>itemsets</th>\n",
       "    </tr>\n",
       "  </thead>\n",
       "  <tbody>\n",
       "    <tr>\n",
       "      <th>0</th>\n",
       "      <td>0.147660</td>\n",
       "      <td>(Class_1st)</td>\n",
       "    </tr>\n",
       "    <tr>\n",
       "      <th>1</th>\n",
       "      <td>0.129487</td>\n",
       "      <td>(Class_2nd)</td>\n",
       "    </tr>\n",
       "    <tr>\n",
       "      <th>2</th>\n",
       "      <td>0.320763</td>\n",
       "      <td>(Class_3rd)</td>\n",
       "    </tr>\n",
       "    <tr>\n",
       "      <th>3</th>\n",
       "      <td>0.402090</td>\n",
       "      <td>(Class_Crew)</td>\n",
       "    </tr>\n",
       "    <tr>\n",
       "      <th>4</th>\n",
       "      <td>0.213539</td>\n",
       "      <td>(Gender_Female)</td>\n",
       "    </tr>\n",
       "    <tr>\n",
       "      <th>...</th>\n",
       "      <td>...</td>\n",
       "      <td>...</td>\n",
       "    </tr>\n",
       "    <tr>\n",
       "      <th>58</th>\n",
       "      <td>0.053612</td>\n",
       "      <td>(Survived_No, Gender_Male, Age_Adult, Class_1st)</td>\n",
       "    </tr>\n",
       "    <tr>\n",
       "      <th>59</th>\n",
       "      <td>0.069968</td>\n",
       "      <td>(Survived_No, Gender_Male, Age_Adult, Class_2nd)</td>\n",
       "    </tr>\n",
       "    <tr>\n",
       "      <th>60</th>\n",
       "      <td>0.175829</td>\n",
       "      <td>(Survived_No, Gender_Male, Age_Adult, Class_3rd)</td>\n",
       "    </tr>\n",
       "    <tr>\n",
       "      <th>61</th>\n",
       "      <td>0.304407</td>\n",
       "      <td>(Survived_No, Gender_Male, Age_Adult, Class_Crew)</td>\n",
       "    </tr>\n",
       "    <tr>\n",
       "      <th>62</th>\n",
       "      <td>0.087233</td>\n",
       "      <td>(Gender_Male, Age_Adult, Class_Crew, Survived_...</td>\n",
       "    </tr>\n",
       "  </tbody>\n",
       "</table>\n",
       "<p>63 rows × 2 columns</p>\n",
       "</div>"
      ],
      "text/plain": [
       "     support                                           itemsets\n",
       "0   0.147660                                        (Class_1st)\n",
       "1   0.129487                                        (Class_2nd)\n",
       "2   0.320763                                        (Class_3rd)\n",
       "3   0.402090                                       (Class_Crew)\n",
       "4   0.213539                                    (Gender_Female)\n",
       "..       ...                                                ...\n",
       "58  0.053612   (Survived_No, Gender_Male, Age_Adult, Class_1st)\n",
       "59  0.069968   (Survived_No, Gender_Male, Age_Adult, Class_2nd)\n",
       "60  0.175829   (Survived_No, Gender_Male, Age_Adult, Class_3rd)\n",
       "61  0.304407  (Survived_No, Gender_Male, Age_Adult, Class_Crew)\n",
       "62  0.087233  (Gender_Male, Age_Adult, Class_Crew, Survived_...\n",
       "\n",
       "[63 rows x 2 columns]"
      ]
     },
     "execution_count": 16,
     "metadata": {},
     "output_type": "execute_result"
    }
   ],
   "source": [
    "frequent_itemsets = apriori(df, min_support = 0.05,use_colnames=True,max_len=None)\n",
    "frequent_itemsets"
   ]
  },
  {
   "cell_type": "code",
   "execution_count": 19,
   "metadata": {},
   "outputs": [
    {
     "name": "stdout",
     "output_type": "stream",
     "text": [
      "<class 'pandas.core.frame.DataFrame'>\n",
      "RangeIndex: 63 entries, 0 to 62\n",
      "Data columns (total 2 columns):\n",
      " #   Column    Non-Null Count  Dtype  \n",
      "---  ------    --------------  -----  \n",
      " 0   support   63 non-null     float64\n",
      " 1   itemsets  63 non-null     object \n",
      "dtypes: float64(1), object(1)\n",
      "memory usage: 1.1+ KB\n"
     ]
    },
    {
     "name": "stderr",
     "output_type": "stream",
     "text": [
      "C:\\Users\\MRUH\\anaconda3\\lib\\site-packages\\ipykernel\\ipkernel.py:287: DeprecationWarning: `should_run_async` will not call `transform_cell` automatically in the future. Please pass the result to `transformed_cell` argument and any exception that happen during thetransform in `preprocessing_exc_tuple` in IPython 7.17 and above.\n",
      "  and should_run_async(code)\n"
     ]
    }
   ],
   "source": [
    "frequent_itemsets.info()"
   ]
  },
  {
   "cell_type": "code",
   "execution_count": 24,
   "metadata": {},
   "outputs": [
    {
     "name": "stderr",
     "output_type": "stream",
     "text": [
      "C:\\Users\\MRUH\\anaconda3\\lib\\site-packages\\ipykernel\\ipkernel.py:287: DeprecationWarning: `should_run_async` will not call `transform_cell` automatically in the future. Please pass the result to `transformed_cell` argument and any exception that happen during thetransform in `preprocessing_exc_tuple` in IPython 7.17 and above.\n",
      "  and should_run_async(code)\n"
     ]
    },
    {
     "data": {
      "text/html": [
       "<div>\n",
       "<style scoped>\n",
       "    .dataframe tbody tr th:only-of-type {\n",
       "        vertical-align: middle;\n",
       "    }\n",
       "\n",
       "    .dataframe tbody tr th {\n",
       "        vertical-align: top;\n",
       "    }\n",
       "\n",
       "    .dataframe thead th {\n",
       "        text-align: right;\n",
       "    }\n",
       "</style>\n",
       "<table border=\"1\" class=\"dataframe\">\n",
       "  <thead>\n",
       "    <tr style=\"text-align: right;\">\n",
       "      <th></th>\n",
       "      <th>antecedents</th>\n",
       "      <th>consequents</th>\n",
       "      <th>antecedent support</th>\n",
       "      <th>consequent support</th>\n",
       "      <th>support</th>\n",
       "      <th>confidence</th>\n",
       "      <th>lift</th>\n",
       "      <th>representativity</th>\n",
       "      <th>leverage</th>\n",
       "      <th>conviction</th>\n",
       "      <th>zhangs_metric</th>\n",
       "      <th>jaccard</th>\n",
       "      <th>certainty</th>\n",
       "      <th>kulczynski</th>\n",
       "    </tr>\n",
       "  </thead>\n",
       "  <tbody>\n",
       "    <tr>\n",
       "      <th>0</th>\n",
       "      <td>(Class_1st)</td>\n",
       "      <td>(Gender_Female)</td>\n",
       "      <td>0.147660</td>\n",
       "      <td>0.213539</td>\n",
       "      <td>0.065879</td>\n",
       "      <td>0.446154</td>\n",
       "      <td>2.089329</td>\n",
       "      <td>1.0</td>\n",
       "      <td>0.034348</td>\n",
       "      <td>1.419998</td>\n",
       "      <td>0.611701</td>\n",
       "      <td>0.223077</td>\n",
       "      <td>0.295774</td>\n",
       "      <td>0.377332</td>\n",
       "    </tr>\n",
       "    <tr>\n",
       "      <th>1</th>\n",
       "      <td>(Gender_Female)</td>\n",
       "      <td>(Class_1st)</td>\n",
       "      <td>0.213539</td>\n",
       "      <td>0.147660</td>\n",
       "      <td>0.065879</td>\n",
       "      <td>0.308511</td>\n",
       "      <td>2.089329</td>\n",
       "      <td>1.0</td>\n",
       "      <td>0.034348</td>\n",
       "      <td>1.232615</td>\n",
       "      <td>0.662941</td>\n",
       "      <td>0.223077</td>\n",
       "      <td>0.188716</td>\n",
       "      <td>0.377332</td>\n",
       "    </tr>\n",
       "    <tr>\n",
       "      <th>2</th>\n",
       "      <td>(Age_Adult)</td>\n",
       "      <td>(Class_1st)</td>\n",
       "      <td>0.950477</td>\n",
       "      <td>0.147660</td>\n",
       "      <td>0.144934</td>\n",
       "      <td>0.152486</td>\n",
       "      <td>1.032680</td>\n",
       "      <td>1.0</td>\n",
       "      <td>0.004587</td>\n",
       "      <td>1.005694</td>\n",
       "      <td>0.639010</td>\n",
       "      <td>0.152050</td>\n",
       "      <td>0.005661</td>\n",
       "      <td>0.567012</td>\n",
       "    </tr>\n",
       "    <tr>\n",
       "      <th>3</th>\n",
       "      <td>(Class_1st)</td>\n",
       "      <td>(Age_Adult)</td>\n",
       "      <td>0.147660</td>\n",
       "      <td>0.950477</td>\n",
       "      <td>0.144934</td>\n",
       "      <td>0.981538</td>\n",
       "      <td>1.032680</td>\n",
       "      <td>1.0</td>\n",
       "      <td>0.004587</td>\n",
       "      <td>2.682493</td>\n",
       "      <td>0.037128</td>\n",
       "      <td>0.152050</td>\n",
       "      <td>0.627212</td>\n",
       "      <td>0.567012</td>\n",
       "    </tr>\n",
       "    <tr>\n",
       "      <th>4</th>\n",
       "      <td>(Class_1st)</td>\n",
       "      <td>(Survived_Yes)</td>\n",
       "      <td>0.147660</td>\n",
       "      <td>0.323035</td>\n",
       "      <td>0.092231</td>\n",
       "      <td>0.624615</td>\n",
       "      <td>1.933584</td>\n",
       "      <td>1.0</td>\n",
       "      <td>0.044531</td>\n",
       "      <td>1.803390</td>\n",
       "      <td>0.566471</td>\n",
       "      <td>0.243697</td>\n",
       "      <td>0.445489</td>\n",
       "      <td>0.455064</td>\n",
       "    </tr>\n",
       "    <tr>\n",
       "      <th>...</th>\n",
       "      <td>...</td>\n",
       "      <td>...</td>\n",
       "      <td>...</td>\n",
       "      <td>...</td>\n",
       "      <td>...</td>\n",
       "      <td>...</td>\n",
       "      <td>...</td>\n",
       "      <td>...</td>\n",
       "      <td>...</td>\n",
       "      <td>...</td>\n",
       "      <td>...</td>\n",
       "      <td>...</td>\n",
       "      <td>...</td>\n",
       "      <td>...</td>\n",
       "    </tr>\n",
       "    <tr>\n",
       "      <th>159</th>\n",
       "      <td>(Age_Adult, Class_Crew)</td>\n",
       "      <td>(Gender_Male, Survived_Yes)</td>\n",
       "      <td>0.402090</td>\n",
       "      <td>0.166742</td>\n",
       "      <td>0.087233</td>\n",
       "      <td>0.216949</td>\n",
       "      <td>1.301104</td>\n",
       "      <td>1.0</td>\n",
       "      <td>0.020188</td>\n",
       "      <td>1.064117</td>\n",
       "      <td>0.387051</td>\n",
       "      <td>0.181132</td>\n",
       "      <td>0.060254</td>\n",
       "      <td>0.370055</td>\n",
       "    </tr>\n",
       "    <tr>\n",
       "      <th>160</th>\n",
       "      <td>(Class_Crew, Survived_Yes)</td>\n",
       "      <td>(Gender_Male, Age_Adult)</td>\n",
       "      <td>0.096320</td>\n",
       "      <td>0.757383</td>\n",
       "      <td>0.087233</td>\n",
       "      <td>0.905660</td>\n",
       "      <td>1.195776</td>\n",
       "      <td>1.0</td>\n",
       "      <td>0.014282</td>\n",
       "      <td>2.571740</td>\n",
       "      <td>0.181174</td>\n",
       "      <td>0.113811</td>\n",
       "      <td>0.611158</td>\n",
       "      <td>0.510419</td>\n",
       "    </tr>\n",
       "    <tr>\n",
       "      <th>161</th>\n",
       "      <td>(Gender_Male)</td>\n",
       "      <td>(Age_Adult, Class_Crew, Survived_Yes)</td>\n",
       "      <td>0.786461</td>\n",
       "      <td>0.096320</td>\n",
       "      <td>0.087233</td>\n",
       "      <td>0.110919</td>\n",
       "      <td>1.151565</td>\n",
       "      <td>1.0</td>\n",
       "      <td>0.011481</td>\n",
       "      <td>1.016420</td>\n",
       "      <td>0.616356</td>\n",
       "      <td>0.109652</td>\n",
       "      <td>0.016155</td>\n",
       "      <td>0.508289</td>\n",
       "    </tr>\n",
       "    <tr>\n",
       "      <th>162</th>\n",
       "      <td>(Age_Adult)</td>\n",
       "      <td>(Gender_Male, Class_Crew, Survived_Yes)</td>\n",
       "      <td>0.950477</td>\n",
       "      <td>0.087233</td>\n",
       "      <td>0.087233</td>\n",
       "      <td>0.091778</td>\n",
       "      <td>1.052103</td>\n",
       "      <td>1.0</td>\n",
       "      <td>0.004320</td>\n",
       "      <td>1.005004</td>\n",
       "      <td>1.000000</td>\n",
       "      <td>0.091778</td>\n",
       "      <td>0.004980</td>\n",
       "      <td>0.545889</td>\n",
       "    </tr>\n",
       "    <tr>\n",
       "      <th>163</th>\n",
       "      <td>(Class_Crew)</td>\n",
       "      <td>(Gender_Male, Age_Adult, Survived_Yes)</td>\n",
       "      <td>0.402090</td>\n",
       "      <td>0.153567</td>\n",
       "      <td>0.087233</td>\n",
       "      <td>0.216949</td>\n",
       "      <td>1.412737</td>\n",
       "      <td>1.0</td>\n",
       "      <td>0.025486</td>\n",
       "      <td>1.080943</td>\n",
       "      <td>0.488626</td>\n",
       "      <td>0.186227</td>\n",
       "      <td>0.074882</td>\n",
       "      <td>0.392498</td>\n",
       "    </tr>\n",
       "  </tbody>\n",
       "</table>\n",
       "<p>164 rows × 14 columns</p>\n",
       "</div>"
      ],
      "text/plain": [
       "                    antecedents                              consequents  \\\n",
       "0                   (Class_1st)                          (Gender_Female)   \n",
       "1               (Gender_Female)                              (Class_1st)   \n",
       "2                   (Age_Adult)                              (Class_1st)   \n",
       "3                   (Class_1st)                              (Age_Adult)   \n",
       "4                   (Class_1st)                           (Survived_Yes)   \n",
       "..                          ...                                      ...   \n",
       "159     (Age_Adult, Class_Crew)              (Gender_Male, Survived_Yes)   \n",
       "160  (Class_Crew, Survived_Yes)                 (Gender_Male, Age_Adult)   \n",
       "161               (Gender_Male)    (Age_Adult, Class_Crew, Survived_Yes)   \n",
       "162                 (Age_Adult)  (Gender_Male, Class_Crew, Survived_Yes)   \n",
       "163                (Class_Crew)   (Gender_Male, Age_Adult, Survived_Yes)   \n",
       "\n",
       "     antecedent support  consequent support   support  confidence      lift  \\\n",
       "0              0.147660            0.213539  0.065879    0.446154  2.089329   \n",
       "1              0.213539            0.147660  0.065879    0.308511  2.089329   \n",
       "2              0.950477            0.147660  0.144934    0.152486  1.032680   \n",
       "3              0.147660            0.950477  0.144934    0.981538  1.032680   \n",
       "4              0.147660            0.323035  0.092231    0.624615  1.933584   \n",
       "..                  ...                 ...       ...         ...       ...   \n",
       "159            0.402090            0.166742  0.087233    0.216949  1.301104   \n",
       "160            0.096320            0.757383  0.087233    0.905660  1.195776   \n",
       "161            0.786461            0.096320  0.087233    0.110919  1.151565   \n",
       "162            0.950477            0.087233  0.087233    0.091778  1.052103   \n",
       "163            0.402090            0.153567  0.087233    0.216949  1.412737   \n",
       "\n",
       "     representativity  leverage  conviction  zhangs_metric   jaccard  \\\n",
       "0                 1.0  0.034348    1.419998       0.611701  0.223077   \n",
       "1                 1.0  0.034348    1.232615       0.662941  0.223077   \n",
       "2                 1.0  0.004587    1.005694       0.639010  0.152050   \n",
       "3                 1.0  0.004587    2.682493       0.037128  0.152050   \n",
       "4                 1.0  0.044531    1.803390       0.566471  0.243697   \n",
       "..                ...       ...         ...            ...       ...   \n",
       "159               1.0  0.020188    1.064117       0.387051  0.181132   \n",
       "160               1.0  0.014282    2.571740       0.181174  0.113811   \n",
       "161               1.0  0.011481    1.016420       0.616356  0.109652   \n",
       "162               1.0  0.004320    1.005004       1.000000  0.091778   \n",
       "163               1.0  0.025486    1.080943       0.488626  0.186227   \n",
       "\n",
       "     certainty  kulczynski  \n",
       "0     0.295774    0.377332  \n",
       "1     0.188716    0.377332  \n",
       "2     0.005661    0.567012  \n",
       "3     0.627212    0.567012  \n",
       "4     0.445489    0.455064  \n",
       "..         ...         ...  \n",
       "159   0.060254    0.370055  \n",
       "160   0.611158    0.510419  \n",
       "161   0.016155    0.508289  \n",
       "162   0.004980    0.545889  \n",
       "163   0.074882    0.392498  \n",
       "\n",
       "[164 rows x 14 columns]"
      ]
     },
     "execution_count": 24,
     "metadata": {},
     "output_type": "execute_result"
    }
   ],
   "source": [
    "rules = association_rules(frequent_itemsets, metric=\"lift\", min_threshold=1.0)\n",
    "rules"
   ]
  },
  {
   "cell_type": "code",
   "execution_count": 26,
   "metadata": {},
   "outputs": [
    {
     "name": "stderr",
     "output_type": "stream",
     "text": [
      "C:\\Users\\MRUH\\anaconda3\\lib\\site-packages\\ipykernel\\ipkernel.py:287: DeprecationWarning: `should_run_async` will not call `transform_cell` automatically in the future. Please pass the result to `transformed_cell` argument and any exception that happen during thetransform in `preprocessing_exc_tuple` in IPython 7.17 and above.\n",
      "  and should_run_async(code)\n"
     ]
    },
    {
     "data": {
      "text/html": [
       "<div>\n",
       "<style scoped>\n",
       "    .dataframe tbody tr th:only-of-type {\n",
       "        vertical-align: middle;\n",
       "    }\n",
       "\n",
       "    .dataframe tbody tr th {\n",
       "        vertical-align: top;\n",
       "    }\n",
       "\n",
       "    .dataframe thead th {\n",
       "        text-align: right;\n",
       "    }\n",
       "</style>\n",
       "<table border=\"1\" class=\"dataframe\">\n",
       "  <thead>\n",
       "    <tr style=\"text-align: right;\">\n",
       "      <th></th>\n",
       "      <th>antecedents</th>\n",
       "      <th>consequents</th>\n",
       "      <th>antecedent support</th>\n",
       "      <th>consequent support</th>\n",
       "      <th>support</th>\n",
       "      <th>confidence</th>\n",
       "      <th>lift</th>\n",
       "      <th>representativity</th>\n",
       "      <th>leverage</th>\n",
       "      <th>conviction</th>\n",
       "      <th>zhangs_metric</th>\n",
       "      <th>jaccard</th>\n",
       "      <th>certainty</th>\n",
       "      <th>kulczynski</th>\n",
       "    </tr>\n",
       "  </thead>\n",
       "  <tbody>\n",
       "    <tr>\n",
       "      <th>121</th>\n",
       "      <td>(Gender_Male, Class_1st)</td>\n",
       "      <td>(Survived_No, Age_Adult)</td>\n",
       "      <td>0.081781</td>\n",
       "      <td>0.653339</td>\n",
       "      <td>0.053612</td>\n",
       "      <td>0.655556</td>\n",
       "      <td>1.003392</td>\n",
       "      <td>1.0</td>\n",
       "      <td>0.000181</td>\n",
       "      <td>1.006434</td>\n",
       "      <td>0.003682</td>\n",
       "      <td>0.078667</td>\n",
       "      <td>0.006393</td>\n",
       "      <td>0.368807</td>\n",
       "    </tr>\n",
       "    <tr>\n",
       "      <th>118</th>\n",
       "      <td>(Survived_No, Age_Adult)</td>\n",
       "      <td>(Gender_Male, Class_1st)</td>\n",
       "      <td>0.653339</td>\n",
       "      <td>0.081781</td>\n",
       "      <td>0.053612</td>\n",
       "      <td>0.082058</td>\n",
       "      <td>1.003392</td>\n",
       "      <td>1.0</td>\n",
       "      <td>0.000181</td>\n",
       "      <td>1.000302</td>\n",
       "      <td>0.009752</td>\n",
       "      <td>0.078667</td>\n",
       "      <td>0.000302</td>\n",
       "      <td>0.368807</td>\n",
       "    </tr>\n",
       "    <tr>\n",
       "      <th>21</th>\n",
       "      <td>(Age_Adult)</td>\n",
       "      <td>(Gender_Male)</td>\n",
       "      <td>0.950477</td>\n",
       "      <td>0.786461</td>\n",
       "      <td>0.757383</td>\n",
       "      <td>0.796845</td>\n",
       "      <td>1.013204</td>\n",
       "      <td>1.0</td>\n",
       "      <td>0.009870</td>\n",
       "      <td>1.051116</td>\n",
       "      <td>0.263149</td>\n",
       "      <td>0.773191</td>\n",
       "      <td>0.048630</td>\n",
       "      <td>0.879936</td>\n",
       "    </tr>\n",
       "    <tr>\n",
       "      <th>20</th>\n",
       "      <td>(Gender_Male)</td>\n",
       "      <td>(Age_Adult)</td>\n",
       "      <td>0.786461</td>\n",
       "      <td>0.950477</td>\n",
       "      <td>0.757383</td>\n",
       "      <td>0.963027</td>\n",
       "      <td>1.013204</td>\n",
       "      <td>1.0</td>\n",
       "      <td>0.009870</td>\n",
       "      <td>1.339441</td>\n",
       "      <td>0.061028</td>\n",
       "      <td>0.773191</td>\n",
       "      <td>0.253420</td>\n",
       "      <td>0.879936</td>\n",
       "    </tr>\n",
       "    <tr>\n",
       "      <th>25</th>\n",
       "      <td>(Age_Adult)</td>\n",
       "      <td>(Survived_No)</td>\n",
       "      <td>0.950477</td>\n",
       "      <td>0.676965</td>\n",
       "      <td>0.653339</td>\n",
       "      <td>0.687380</td>\n",
       "      <td>1.015386</td>\n",
       "      <td>1.0</td>\n",
       "      <td>0.009900</td>\n",
       "      <td>1.033317</td>\n",
       "      <td>0.305968</td>\n",
       "      <td>0.670709</td>\n",
       "      <td>0.032243</td>\n",
       "      <td>0.826241</td>\n",
       "    </tr>\n",
       "    <tr>\n",
       "      <th>...</th>\n",
       "      <td>...</td>\n",
       "      <td>...</td>\n",
       "      <td>...</td>\n",
       "      <td>...</td>\n",
       "      <td>...</td>\n",
       "      <td>...</td>\n",
       "      <td>...</td>\n",
       "      <td>...</td>\n",
       "      <td>...</td>\n",
       "      <td>...</td>\n",
       "      <td>...</td>\n",
       "      <td>...</td>\n",
       "      <td>...</td>\n",
       "      <td>...</td>\n",
       "    </tr>\n",
       "    <tr>\n",
       "      <th>33</th>\n",
       "      <td>(Class_1st, Survived_Yes)</td>\n",
       "      <td>(Gender_Female)</td>\n",
       "      <td>0.092231</td>\n",
       "      <td>0.213539</td>\n",
       "      <td>0.064062</td>\n",
       "      <td>0.694581</td>\n",
       "      <td>3.252709</td>\n",
       "      <td>1.0</td>\n",
       "      <td>0.044367</td>\n",
       "      <td>2.575025</td>\n",
       "      <td>0.762930</td>\n",
       "      <td>0.265038</td>\n",
       "      <td>0.611654</td>\n",
       "      <td>0.497291</td>\n",
       "    </tr>\n",
       "    <tr>\n",
       "      <th>103</th>\n",
       "      <td>(Age_Adult, Class_1st, Survived_Yes)</td>\n",
       "      <td>(Gender_Female)</td>\n",
       "      <td>0.089505</td>\n",
       "      <td>0.213539</td>\n",
       "      <td>0.063607</td>\n",
       "      <td>0.710660</td>\n",
       "      <td>3.328005</td>\n",
       "      <td>1.0</td>\n",
       "      <td>0.044495</td>\n",
       "      <td>2.718119</td>\n",
       "      <td>0.768285</td>\n",
       "      <td>0.265655</td>\n",
       "      <td>0.632098</td>\n",
       "      <td>0.504266</td>\n",
       "    </tr>\n",
       "    <tr>\n",
       "      <th>114</th>\n",
       "      <td>(Gender_Female)</td>\n",
       "      <td>(Age_Adult, Class_1st, Survived_Yes)</td>\n",
       "      <td>0.213539</td>\n",
       "      <td>0.089505</td>\n",
       "      <td>0.063607</td>\n",
       "      <td>0.297872</td>\n",
       "      <td>3.328005</td>\n",
       "      <td>1.0</td>\n",
       "      <td>0.044495</td>\n",
       "      <td>1.296766</td>\n",
       "      <td>0.889453</td>\n",
       "      <td>0.265655</td>\n",
       "      <td>0.228851</td>\n",
       "      <td>0.504266</td>\n",
       "    </tr>\n",
       "    <tr>\n",
       "      <th>107</th>\n",
       "      <td>(Age_Adult, Gender_Female)</td>\n",
       "      <td>(Class_1st, Survived_Yes)</td>\n",
       "      <td>0.193094</td>\n",
       "      <td>0.092231</td>\n",
       "      <td>0.063607</td>\n",
       "      <td>0.329412</td>\n",
       "      <td>3.571602</td>\n",
       "      <td>1.0</td>\n",
       "      <td>0.045798</td>\n",
       "      <td>1.353691</td>\n",
       "      <td>0.892314</td>\n",
       "      <td>0.286885</td>\n",
       "      <td>0.261279</td>\n",
       "      <td>0.509533</td>\n",
       "    </tr>\n",
       "    <tr>\n",
       "      <th>110</th>\n",
       "      <td>(Class_1st, Survived_Yes)</td>\n",
       "      <td>(Age_Adult, Gender_Female)</td>\n",
       "      <td>0.092231</td>\n",
       "      <td>0.193094</td>\n",
       "      <td>0.063607</td>\n",
       "      <td>0.689655</td>\n",
       "      <td>3.571602</td>\n",
       "      <td>1.0</td>\n",
       "      <td>0.045798</td>\n",
       "      <td>2.600030</td>\n",
       "      <td>0.793168</td>\n",
       "      <td>0.286885</td>\n",
       "      <td>0.615389</td>\n",
       "      <td>0.509533</td>\n",
       "    </tr>\n",
       "  </tbody>\n",
       "</table>\n",
       "<p>164 rows × 14 columns</p>\n",
       "</div>"
      ],
      "text/plain": [
       "                              antecedents  \\\n",
       "121              (Gender_Male, Class_1st)   \n",
       "118              (Survived_No, Age_Adult)   \n",
       "21                            (Age_Adult)   \n",
       "20                          (Gender_Male)   \n",
       "25                            (Age_Adult)   \n",
       "..                                    ...   \n",
       "33              (Class_1st, Survived_Yes)   \n",
       "103  (Age_Adult, Class_1st, Survived_Yes)   \n",
       "114                       (Gender_Female)   \n",
       "107            (Age_Adult, Gender_Female)   \n",
       "110             (Class_1st, Survived_Yes)   \n",
       "\n",
       "                              consequents  antecedent support  \\\n",
       "121              (Survived_No, Age_Adult)            0.081781   \n",
       "118              (Gender_Male, Class_1st)            0.653339   \n",
       "21                          (Gender_Male)            0.950477   \n",
       "20                            (Age_Adult)            0.786461   \n",
       "25                          (Survived_No)            0.950477   \n",
       "..                                    ...                 ...   \n",
       "33                        (Gender_Female)            0.092231   \n",
       "103                       (Gender_Female)            0.089505   \n",
       "114  (Age_Adult, Class_1st, Survived_Yes)            0.213539   \n",
       "107             (Class_1st, Survived_Yes)            0.193094   \n",
       "110            (Age_Adult, Gender_Female)            0.092231   \n",
       "\n",
       "     consequent support   support  confidence      lift  representativity  \\\n",
       "121            0.653339  0.053612    0.655556  1.003392               1.0   \n",
       "118            0.081781  0.053612    0.082058  1.003392               1.0   \n",
       "21             0.786461  0.757383    0.796845  1.013204               1.0   \n",
       "20             0.950477  0.757383    0.963027  1.013204               1.0   \n",
       "25             0.676965  0.653339    0.687380  1.015386               1.0   \n",
       "..                  ...       ...         ...       ...               ...   \n",
       "33             0.213539  0.064062    0.694581  3.252709               1.0   \n",
       "103            0.213539  0.063607    0.710660  3.328005               1.0   \n",
       "114            0.089505  0.063607    0.297872  3.328005               1.0   \n",
       "107            0.092231  0.063607    0.329412  3.571602               1.0   \n",
       "110            0.193094  0.063607    0.689655  3.571602               1.0   \n",
       "\n",
       "     leverage  conviction  zhangs_metric   jaccard  certainty  kulczynski  \n",
       "121  0.000181    1.006434       0.003682  0.078667   0.006393    0.368807  \n",
       "118  0.000181    1.000302       0.009752  0.078667   0.000302    0.368807  \n",
       "21   0.009870    1.051116       0.263149  0.773191   0.048630    0.879936  \n",
       "20   0.009870    1.339441       0.061028  0.773191   0.253420    0.879936  \n",
       "25   0.009900    1.033317       0.305968  0.670709   0.032243    0.826241  \n",
       "..        ...         ...            ...       ...        ...         ...  \n",
       "33   0.044367    2.575025       0.762930  0.265038   0.611654    0.497291  \n",
       "103  0.044495    2.718119       0.768285  0.265655   0.632098    0.504266  \n",
       "114  0.044495    1.296766       0.889453  0.265655   0.228851    0.504266  \n",
       "107  0.045798    1.353691       0.892314  0.286885   0.261279    0.509533  \n",
       "110  0.045798    2.600030       0.793168  0.286885   0.615389    0.509533  \n",
       "\n",
       "[164 rows x 14 columns]"
      ]
     },
     "execution_count": 26,
     "metadata": {},
     "output_type": "execute_result"
    }
   ],
   "source": [
    "rules.sort_values(by='lift', ascending =True)"
   ]
  },
  {
   "cell_type": "code",
   "execution_count": null,
   "metadata": {},
   "outputs": [],
   "source": []
  }
 ],
 "metadata": {
  "kernelspec": {
   "display_name": "Python 3",
   "language": "python",
   "name": "python3"
  },
  "language_info": {
   "codemirror_mode": {
    "name": "ipython",
    "version": 3
   },
   "file_extension": ".py",
   "mimetype": "text/x-python",
   "name": "python",
   "nbconvert_exporter": "python",
   "pygments_lexer": "ipython3",
   "version": "3.8.5"
  }
 },
 "nbformat": 4,
 "nbformat_minor": 4
}
